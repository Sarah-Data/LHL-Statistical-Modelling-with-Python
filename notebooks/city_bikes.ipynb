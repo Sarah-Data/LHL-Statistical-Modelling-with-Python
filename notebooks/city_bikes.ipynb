{
 "cells": [
  {
   "cell_type": "markdown",
   "metadata": {},
   "source": [
    "# CityBikes"
   ]
  },
  {
   "cell_type": "markdown",
   "metadata": {},
   "source": [
    "Send a request to CityBikes for the city of your choice. "
   ]
  },
  {
   "cell_type": "code",
   "execution_count": 176,
   "metadata": {},
   "outputs": [],
   "source": [
    "import requests\n",
    "\n",
    "# Step 1: Get the list of networks\n",
    "response = requests.get(\"http://api.citybik.es/v2/networks\")\n",
    "#response.json()[\"networks\"] # Select network id of the City of choice- Miami Beach,Florida\n"
   ]
  },
  {
   "cell_type": "code",
   "execution_count": 171,
   "metadata": {},
   "outputs": [],
   "source": [
    "# Step 2: Find the desired network by its ID or name\n",
    "desired_network_id = \"decobike-miami-beach\"  # Example network ID\n",
    "desired_network = next (network for network in networks if network[\"id\"] == desired_network_id)\n"
   ]
  },
  {
   "cell_type": "code",
   "execution_count": 172,
   "metadata": {},
   "outputs": [],
   "source": [
    "# Step 3: Construct the API endpoint for the desired network\n",
    "network_api_endpoint = \"http://api.citybik.es\" + desired_network[\"href\"]\n"
   ]
  },
  {
   "cell_type": "code",
   "execution_count": 173,
   "metadata": {},
   "outputs": [],
   "source": [
    "# Step 4: Make a GET request to the network API endpoint\n",
    "response = requests.get(network_api_endpoint)\n",
    "#response.json()['network']"
   ]
  },
  {
   "cell_type": "code",
   "execution_count": 174,
   "metadata": {},
   "outputs": [
    {
     "data": {
      "text/plain": [
       "<Response [200]>"
      ]
     },
     "execution_count": 174,
     "metadata": {},
     "output_type": "execute_result"
    }
   ],
   "source": [
    "requests.get(\"http://api.citybik.es/v2/networks\")"
   ]
  },
  {
   "cell_type": "markdown",
   "metadata": {},
   "source": [
    "Parse through the response to get the details you want for the bike stations in that city (latitude, longitude, number of bikes). "
   ]
  },
  {
   "cell_type": "code",
   "execution_count": 169,
   "metadata": {},
   "outputs": [],
   "source": [
    "stations = response.json()['network']['stations']"
   ]
  },
  {
   "cell_type": "markdown",
   "metadata": {},
   "source": [
    "Put your parsed results into a DataFrame."
   ]
  },
  {
   "cell_type": "code",
   "execution_count": 175,
   "metadata": {},
   "outputs": [
    {
     "data": {
      "text/html": [
       "<div>\n",
       "<style scoped>\n",
       "    .dataframe tbody tr th:only-of-type {\n",
       "        vertical-align: middle;\n",
       "    }\n",
       "\n",
       "    .dataframe tbody tr th {\n",
       "        vertical-align: top;\n",
       "    }\n",
       "\n",
       "    .dataframe thead th {\n",
       "        text-align: right;\n",
       "    }\n",
       "</style>\n",
       "<table border=\"1\" class=\"dataframe\">\n",
       "  <thead>\n",
       "    <tr style=\"text-align: right;\">\n",
       "      <th></th>\n",
       "      <th>City</th>\n",
       "      <th>CityLatLon</th>\n",
       "      <th>Company</th>\n",
       "      <th>Bike_Stations</th>\n",
       "      <th>latitude</th>\n",
       "      <th>longitude</th>\n",
       "      <th>free_bikes</th>\n",
       "      <th>empty_slots</th>\n",
       "    </tr>\n",
       "  </thead>\n",
       "  <tbody>\n",
       "    <tr>\n",
       "      <th>0</th>\n",
       "      <td>Miami Beach, Florida</td>\n",
       "      <td>25.790654,-80.1300455</td>\n",
       "      <td>DecoBike LLC</td>\n",
       "      <td>605 - Virginia St &amp; Florida Ave</td>\n",
       "      <td>25.729275</td>\n",
       "      <td>-80.241581</td>\n",
       "      <td>16</td>\n",
       "      <td>0</td>\n",
       "    </tr>\n",
       "    <tr>\n",
       "      <th>1</th>\n",
       "      <td>Miami Beach, Florida</td>\n",
       "      <td>25.790654,-80.1300455</td>\n",
       "      <td>DecoBike LLC</td>\n",
       "      <td>606 - S Bayshor Dr &amp; Aviation Ave</td>\n",
       "      <td>25.732522</td>\n",
       "      <td>-80.233244</td>\n",
       "      <td>7</td>\n",
       "      <td>9</td>\n",
       "    </tr>\n",
       "    <tr>\n",
       "      <th>2</th>\n",
       "      <td>Miami Beach, Florida</td>\n",
       "      <td>25.790654,-80.1300455</td>\n",
       "      <td>DecoBike LLC</td>\n",
       "      <td>608 - City Hall</td>\n",
       "      <td>25.728437</td>\n",
       "      <td>-80.234443</td>\n",
       "      <td>12</td>\n",
       "      <td>4</td>\n",
       "    </tr>\n",
       "    <tr>\n",
       "      <th>3</th>\n",
       "      <td>Miami Beach, Florida</td>\n",
       "      <td>25.790654,-80.1300455</td>\n",
       "      <td>DecoBike LLC</td>\n",
       "      <td>612 - SE Brickell Ave &amp; 25th Rd</td>\n",
       "      <td>25.751100</td>\n",
       "      <td>-80.202641</td>\n",
       "      <td>4</td>\n",
       "      <td>10</td>\n",
       "    </tr>\n",
       "    <tr>\n",
       "      <th>4</th>\n",
       "      <td>Miami Beach, Florida</td>\n",
       "      <td>25.790654,-80.1300455</td>\n",
       "      <td>DecoBike LLC</td>\n",
       "      <td>616 - 150 SW 15th Road</td>\n",
       "      <td>25.760082</td>\n",
       "      <td>-80.196217</td>\n",
       "      <td>8</td>\n",
       "      <td>8</td>\n",
       "    </tr>\n",
       "    <tr>\n",
       "      <th>...</th>\n",
       "      <td>...</td>\n",
       "      <td>...</td>\n",
       "      <td>...</td>\n",
       "      <td>...</td>\n",
       "      <td>...</td>\n",
       "      <td>...</td>\n",
       "      <td>...</td>\n",
       "      <td>...</td>\n",
       "    </tr>\n",
       "    <tr>\n",
       "      <th>158</th>\n",
       "      <td>Miami Beach, Florida</td>\n",
       "      <td>25.790654,-80.1300455</td>\n",
       "      <td>DecoBike LLC</td>\n",
       "      <td>100 - Test</td>\n",
       "      <td>25.630894</td>\n",
       "      <td>-80.135280</td>\n",
       "      <td>3</td>\n",
       "      <td>0</td>\n",
       "    </tr>\n",
       "    <tr>\n",
       "      <th>159</th>\n",
       "      <td>Miami Beach, Florida</td>\n",
       "      <td>25.790654,-80.1300455</td>\n",
       "      <td>DecoBike LLC</td>\n",
       "      <td>312 - 1102 Biarritz Dr (Normandy Shores Tennis...</td>\n",
       "      <td>25.855593</td>\n",
       "      <td>-80.144908</td>\n",
       "      <td>5</td>\n",
       "      <td>5</td>\n",
       "    </tr>\n",
       "    <tr>\n",
       "      <th>160</th>\n",
       "      <td>Miami Beach, Florida</td>\n",
       "      <td>25.790654,-80.1300455</td>\n",
       "      <td>DecoBike LLC</td>\n",
       "      <td>170 - 1666 West Avenue</td>\n",
       "      <td>25.791002</td>\n",
       "      <td>-80.142496</td>\n",
       "      <td>4</td>\n",
       "      <td>12</td>\n",
       "    </tr>\n",
       "    <tr>\n",
       "      <th>161</th>\n",
       "      <td>Miami Beach, Florida</td>\n",
       "      <td>25.790654,-80.1300455</td>\n",
       "      <td>DecoBike LLC</td>\n",
       "      <td>626 - 1 Ave SE 9th Street</td>\n",
       "      <td>25.765363</td>\n",
       "      <td>-80.194982</td>\n",
       "      <td>4</td>\n",
       "      <td>12</td>\n",
       "    </tr>\n",
       "    <tr>\n",
       "      <th>162</th>\n",
       "      <td>Miami Beach, Florida</td>\n",
       "      <td>25.790654,-80.1300455</td>\n",
       "      <td>DecoBike LLC</td>\n",
       "      <td>621 - 14th St and S Miami Ave</td>\n",
       "      <td>25.760363</td>\n",
       "      <td>-80.193670</td>\n",
       "      <td>4</td>\n",
       "      <td>12</td>\n",
       "    </tr>\n",
       "  </tbody>\n",
       "</table>\n",
       "<p>163 rows × 8 columns</p>\n",
       "</div>"
      ],
      "text/plain": [
       "                     City             CityLatLon       Company  \\\n",
       "0    Miami Beach, Florida  25.790654,-80.1300455  DecoBike LLC   \n",
       "1    Miami Beach, Florida  25.790654,-80.1300455  DecoBike LLC   \n",
       "2    Miami Beach, Florida  25.790654,-80.1300455  DecoBike LLC   \n",
       "3    Miami Beach, Florida  25.790654,-80.1300455  DecoBike LLC   \n",
       "4    Miami Beach, Florida  25.790654,-80.1300455  DecoBike LLC   \n",
       "..                    ...                    ...           ...   \n",
       "158  Miami Beach, Florida  25.790654,-80.1300455  DecoBike LLC   \n",
       "159  Miami Beach, Florida  25.790654,-80.1300455  DecoBike LLC   \n",
       "160  Miami Beach, Florida  25.790654,-80.1300455  DecoBike LLC   \n",
       "161  Miami Beach, Florida  25.790654,-80.1300455  DecoBike LLC   \n",
       "162  Miami Beach, Florida  25.790654,-80.1300455  DecoBike LLC   \n",
       "\n",
       "                                         Bike_Stations   latitude  longitude  \\\n",
       "0                      605 - Virginia St & Florida Ave  25.729275 -80.241581   \n",
       "1                    606 - S Bayshor Dr & Aviation Ave  25.732522 -80.233244   \n",
       "2                                      608 - City Hall  25.728437 -80.234443   \n",
       "3                      612 - SE Brickell Ave & 25th Rd  25.751100 -80.202641   \n",
       "4                               616 - 150 SW 15th Road  25.760082 -80.196217   \n",
       "..                                                 ...        ...        ...   \n",
       "158                                         100 - Test  25.630894 -80.135280   \n",
       "159  312 - 1102 Biarritz Dr (Normandy Shores Tennis...  25.855593 -80.144908   \n",
       "160                             170 - 1666 West Avenue  25.791002 -80.142496   \n",
       "161                          626 - 1 Ave SE 9th Street  25.765363 -80.194982   \n",
       "162                      621 - 14th St and S Miami Ave  25.760363 -80.193670   \n",
       "\n",
       "     free_bikes  empty_slots  \n",
       "0            16            0  \n",
       "1             7            9  \n",
       "2            12            4  \n",
       "3             4           10  \n",
       "4             8            8  \n",
       "..          ...          ...  \n",
       "158           3            0  \n",
       "159           5            5  \n",
       "160           4           12  \n",
       "161           4           12  \n",
       "162           4           12  \n",
       "\n",
       "[163 rows x 8 columns]"
      ]
     },
     "execution_count": 175,
     "metadata": {},
     "output_type": "execute_result"
    }
   ],
   "source": [
    "import pandas as pd\n",
    "\n",
    "Miami_Bikes = pd.DataFrame(stations)\n",
    "Miami_Bikes = Miami_Bikes.drop(['extra', 'id','timestamp'], axis=1)\n",
    "Miami_Bikes['Company'] = response.json()['network']['company'][0]\n",
    "Miami_Bikes['City'] = 'Miami Beach, Florida'\n",
    "Miami_Bikes['CityLatLon'] = str(response.json()['network']['location']['latitude'])+ ',' + str(response.json()['network']['location']['longitude'])\n",
    "Miami_Bikes.rename(columns = {'name':'Bike_Stations'}, inplace = True)\n",
    "Miami_Bikes = Miami_Bikes [['City','CityLatLon','Company','Bike_Stations','latitude','longitude','free_bikes','empty_slots']]\n",
    "samples_3_Miami_Bikes = Miami_Bikes.head(3)\n",
    "#samples_3_Miami_Bikes\n",
    "Miami_Bikes"
   ]
  },
  {
   "cell_type": "code",
   "execution_count": 126,
   "metadata": {},
   "outputs": [],
   "source": [
    "# Save the DataFrame to a pickle file\n",
    "samples_3_Miami_Bikes.to_pickle('samples_3_Miami_Bikes.pk')\n"
   ]
  },
  {
   "cell_type": "code",
   "execution_count": 127,
   "metadata": {},
   "outputs": [],
   "source": [
    "# Save the DataFrame to a pickle file\n",
    "Miami_Bikes.to_pickle('Miami_Bikes.pkl')"
   ]
  }
 ],
 "metadata": {
  "kernelspec": {
   "display_name": "Python 3 (ipykernel)",
   "language": "python",
   "name": "python3"
  },
  "language_info": {
   "codemirror_mode": {
    "name": "ipython",
    "version": 3
   },
   "file_extension": ".py",
   "mimetype": "text/x-python",
   "name": "python",
   "nbconvert_exporter": "python",
   "pygments_lexer": "ipython3",
   "version": "3.10.9"
  }
 },
 "nbformat": 4,
 "nbformat_minor": 4
}
